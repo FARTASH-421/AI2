{
  "nbformat": 4,
  "nbformat_minor": 0,
  "metadata": {
    "colab": {
      "provenance": [],
      "authorship_tag": "ABX9TyMMkVS5yXEuMtsqA6s8o7gL",
      "include_colab_link": true
    },
    "kernelspec": {
      "name": "python3",
      "display_name": "Python 3"
    },
    "language_info": {
      "name": "python"
    }
  },
  "cells": [
    {
      "cell_type": "markdown",
      "metadata": {
        "id": "view-in-github",
        "colab_type": "text"
      },
      "source": [
        "<a href=\"https://colab.research.google.com/github/FARTASH-421/AI2/blob/master/CR_HW1.ipynb\" target=\"_parent\"><img src=\"https://colab.research.google.com/assets/colab-badge.svg\" alt=\"Open In Colab\"/></a>"
      ]
    },
    {
      "cell_type": "code",
      "execution_count": 43,
      "metadata": {
        "id": "nQsKEXvq3MsL"
      },
      "outputs": [],
      "source": []
    },
    {
      "cell_type": "code",
      "source": [],
      "metadata": {
        "id": "ju591kh-4KlF"
      },
      "execution_count": 43,
      "outputs": []
    },
    {
      "cell_type": "code",
      "source": [],
      "metadata": {
        "colab": {
          "base_uri": "https://localhost:8080/",
          "height": 70
        },
        "id": "khQ7J_Yn6YgZ",
        "outputId": "398ab6c6-6535-452e-e1ac-f3249b1d1bd3"
      },
      "execution_count": 36,
      "outputs": [
        {
          "output_type": "stream",
          "name": "stdout",
          "text": [
            "\n",
            "[7, 0, 0, 7, 9, 17]\n"
          ]
        },
        {
          "output_type": "execute_result",
          "data": {
            "text/plain": [
              "'HAAHJR'"
            ],
            "application/vnd.google.colaboratory.intrinsic+json": {
              "type": "string"
            }
          },
          "metadata": {},
          "execution_count": 36
        }
      ]
    },
    {
      "cell_type": "code",
      "source": [
        "def shiftCipher(plaintText, Key):\n",
        "  text = plaintText.upper()\n",
        "  lis = []\n",
        "  for t in text:\n",
        "    if t != \" \":\n",
        "      x = ord(t)-65\n",
        "      y = x + Key\n",
        "      m = y % 26\n",
        "      lis.append(m)\n",
        "\n",
        "  CipherText = \"\"\n",
        "  for l in lis:\n",
        "    CipherText += chr(l+65)+\"\"\n",
        "\n",
        "  return lis, CipherText\n",
        "\n",
        "key = 9\n",
        "text = \"TO INFINITY AND BEYOND\"\n",
        "\n",
        "lis, text_cipher = shiftCipher(text, key)\n",
        "print(text_cipher)\n",
        "print(lis)"
      ],
      "metadata": {
        "colab": {
          "base_uri": "https://localhost:8080/"
        },
        "id": "BuwtmEZ-8cFd",
        "outputId": "4dcb1c90-f39e-4be5-e357-7dcb88472c9d"
      },
      "execution_count": 85,
      "outputs": [
        {
          "output_type": "stream",
          "name": "stdout",
          "text": [
            "CXRWORWRCHJWMKNHXWM\n",
            "[2, 23, 17, 22, 14, 17, 22, 17, 2, 7, 9, 22, 12, 10, 13, 7, 23, 22, 12]\n"
          ]
        }
      ]
    },
    {
      "cell_type": "code",
      "source": [],
      "metadata": {
        "id": "i1nLqfXhFKbF"
      },
      "execution_count": 85,
      "outputs": []
    },
    {
      "cell_type": "code",
      "source": [
        "def AffineCipher(plaintText, Key):\n",
        "  text = plaintText.upper()\n",
        "  lis = []\n",
        "  a, b = Key\n",
        "  print(a, b)\n",
        "  for t in text:\n",
        "    if t != ' ':\n",
        "      x = ord(t) - 65\n",
        "      y = a * x + b\n",
        "      m = y % 26\n",
        "      lis.append(m)\n",
        "\n",
        "  CipherText = \"\"\n",
        "  for l in lis:\n",
        "    CipherText += chr(l+65)+\"\"\n",
        "\n",
        "  return lis, CipherText\n",
        "\n",
        "keyAC = (5, 8)\n",
        "textAC = \"TO INFINITY AND BEYOND\"\n",
        "\n",
        "lisAC, text_AC = AffineCipher(textAC, keyAC)\n",
        "print(text_AC)\n",
        "print(lisAC)"
      ],
      "metadata": {
        "colab": {
          "base_uri": "https://localhost:8080/"
        },
        "id": "I196gHsqFjg-",
        "outputId": "8cd0106b-1227-4d3d-e1c8-0c5bec3f553a"
      },
      "execution_count": 86,
      "outputs": [
        {
          "output_type": "stream",
          "name": "stdout",
          "text": [
            "5 8\n",
            "ZAWVHWVWZYIVXNCYAVX\n",
            "[25, 0, 22, 21, 7, 22, 21, 22, 25, 24, 8, 21, 23, 13, 2, 24, 0, 21, 23]\n"
          ]
        }
      ]
    },
    {
      "cell_type": "code",
      "source": [
        "def VigenereCipher(plaintText, Keylist):\n",
        "  text = plaintText.upper()\n",
        "  lisKey = []\n",
        "  j = 0\n",
        "  for i in range(len(text)):\n",
        "    lisKey.append(Keylist[j])\n",
        "    j += 1\n",
        "    if j >= len(Keylist):\n",
        "      j = 0\n",
        "  # print(lisKey)\n",
        "\n",
        "  lis = []\n",
        "  index = 0\n",
        "  for t in text:\n",
        "    if t != ' ':\n",
        "      x = ord(t) - 65\n",
        "      # print(x, lisKey[index])\n",
        "      y = x + lisKey[index]\n",
        "      m = y % 26\n",
        "      lis.append(m)\n",
        "      index += 1\n",
        "\n",
        "  CipherText = \"\"\n",
        "  for l in lis:\n",
        "    CipherText += chr(l+65)+\"\"\n",
        "\n",
        "  return lis, CipherText\n",
        "\n",
        "keyVC = [4, 12, 9, 21]\n",
        "textVC = \"TO INFINITY AND BEYOND\"\n",
        "\n",
        "lisVC, text_VC = VigenereCipher(textVC, keyVC)\n",
        "print(text_VC)\n",
        "print(lisVC)"
      ],
      "metadata": {
        "colab": {
          "base_uri": "https://localhost:8080/"
        },
        "id": "w6qr8OBkNKva",
        "outputId": "c06e96d4-8b29-4ead-d2a9-179d675c68f5"
      },
      "execution_count": 94,
      "outputs": [
        {
          "output_type": "stream",
          "name": "stdout",
          "text": [
            "XARIJUWDXKJIHNNTSZM\n",
            "[23, 0, 17, 8, 9, 20, 22, 3, 23, 10, 9, 8, 7, 13, 13, 19, 18, 25, 12]\n"
          ]
        }
      ]
    },
    {
      "cell_type": "code",
      "source": [
        "\n"
      ],
      "metadata": {
        "id": "LqXmEhuFtmEc"
      },
      "execution_count": 83,
      "outputs": []
    }
  ]
}