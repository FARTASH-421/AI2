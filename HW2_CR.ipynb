{
  "nbformat": 4,
  "nbformat_minor": 0,
  "metadata": {
    "colab": {
      "provenance": [],
      "collapsed_sections": [
        "rdRpD5RlwO_2"
      ],
      "authorship_tag": "ABX9TyOvfDvaDYm+I7yWLA9giiMR",
      "include_colab_link": true
    },
    "kernelspec": {
      "name": "python3",
      "display_name": "Python 3"
    },
    "language_info": {
      "name": "python"
    }
  },
  "cells": [
    {
      "cell_type": "markdown",
      "metadata": {
        "id": "view-in-github",
        "colab_type": "text"
      },
      "source": [
        "<a href=\"https://colab.research.google.com/github/FARTASH-421/AI2/blob/master/HW2_CR.ipynb\" target=\"_parent\"><img src=\"https://colab.research.google.com/assets/colab-badge.svg\" alt=\"Open In Colab\"/></a>"
      ]
    },
    {
      "cell_type": "code",
      "execution_count": 1,
      "metadata": {
        "id": "fHzfYJMmmjzc"
      },
      "outputs": [],
      "source": [
        "import matplotlib.pyplot as plt\n",
        "from operator import xor\n",
        "import numpy as np\n",
        "import cv2"
      ]
    },
    {
      "cell_type": "markdown",
      "source": [
        "#Q2\n",
        "####Show Image Cipher 1\n",
        "####Show Image Cipher 2"
      ],
      "metadata": {
        "id": "rdRpD5RlwO_2"
      }
    },
    {
      "cell_type": "code",
      "source": [
        "cipher1 = \"1 1 0 1 0 0 1 0 0 0 0 1 1 0 1 1 1 0 1 1 0 1 0 0 1 1 0 0 0 0 0 1 0 0 0 1 0 1 1 1 0 0 0 0 0 0 1 0 0 1 1 0 1 1 1 1 1 1 0 1 1 0 0 0 1 0 1 0 0 1 0 0 0 0 1 1 0 0 1 0 1 1 0 1 1 1 0 0 0 1 0 0 1 1 1 1 0 0 0 0 0 0 1 1 0 1 1 0 1 0 1 0 0 0 0 1 0 1 1 0 0 0 1 1 1 1 1 0 0 0 1 1 1 1 0 1 0 0 0 0 0 0 1 1 1 1 1 1 1 1 0 0 0 1 0 1 0 0 1 1 0 0 0 0 1 1 0 1 1 0 1 1 0 0 0 1 0 0 1 1 1 0 0 1 1 1 0 1 0 1 1 1 0 0 1 0 0 0 0 1 1 0 0 1 1 1 1 1 0 0 0 1 1 0 0 0 0 1 0 1 0 1 0 0 1 1 0 1 0 1 1 0 0 0 0 0 0 0 0 0 1 0 1 1 0 1 0 0 1 0 0 1 0 1 0 0 1 1 1 1 0 1 1 1 1 1 0 0 1 1 1 1 0 0 1 0 0 1 1 0 1 0 0 0 0 1 1 1 1 0 0 1 1 0 0 0 0 1 0 0 0 0 0 1 0 0 0 1 1 1 0 0 0 0 0 1 0 0 0 0 0 0 0 1 0 1 0 1 0 0 0 1 1 0 1 0 0 0 1 1 0 1 0 0 0 1 0 1 0 0 0 1 1 1 1 0 1 0 1 0 0 1 0 0 0 1 1 0 1 0 0 0 1 1 0 1 1 0 1 0 0 1 1 0 1 1 1 0 0 1 0 0 1 1 0 1 1 1 1 0 1 1 1 0 0 1 0 1 0 0 1 0 1 0 1 0 0 1 0 1 0 0 0 1 0 0 0 0 1 0 0 1 0 1 0 1 0 0 0 1 1 0 1 1 0 1 1 0 1 0 0 1 0 1 0 0 0 1 0 1 1 1 1 1 1 0 1 0 0 0 1 1 0 0 0 1 0 1 1 1 1 1 1 0 1 1 0 1 1 1 0 1 0 1 0 1 1 0 0 1 0 0 0 0 1 1 1 0 0 0 0 0 1 1 0 1 0 0 0 1 0 1 1 1 1 0 1 1 1 1 0 0 0 0 0 0 0 0 0 0 0 0 0 1 0 1 0 1 0 0 0 1 0 1 1 0 0 1 1 0 1 1 1 0 1 0 0 0 0 1 1 1 1 1 0 1 1 0 1 1 1 0 0 0 1 0 0 0 1 1 1 0 0 0 1 1 1 0 0 0 0 0 1 0 1 1 0 0 1 0 1 0 1 0 1 0 1 0 0 1 0 0 1 0 1 0 1 1 1 0 1 1 1 1 1 1 1 0 0 0 0 0 1 0 0 0 0 0 1 1 0 1 1 1 0 0 0 1 0 1 0 0 0 0 1 1 0 1 1 0 1 1 1 0 1 1 1 0 0 0 1 1 1 1 0 1 1 0 1 1 1 0 1 0 0 0 1 0 0 1 0 1 1 1 0 0 0 0 1 1 1 1 1 1 0 0 0 0 1 0 1 0 0 0 1 1 1 0 0 0 1 0 1 0 0 0 1 1 0 0 1 1 1 0 1 0 1 0 0 0 1 0 0 1 1 1 0 0 1 0 1 0 1 0 0 1 1 1 1 0 1 0 0 0 1 0 1 1 0 0 0 0 1 0 1 1 1 1 1 1 1 0 1 1 1 0 0 1 0 0 1 0 0 0 0 1 1 0 1 0 1 1 1 1 1 0 0 1 1 1 1 0 0 0 0 0 1 1 1 0 1 1 1 0 1 1 0 1 1 1 0 1 1 1 1 0 0 0 1 1 1 0 0 0 0 1 1 1 1 1 1 0 0 0 0 1 0 0 1 0 0 0 0 0 1 0 1 0 0 0 0 1 0 1 0 0 1 1 0 1 1\"\n",
        "arr1 = []\n",
        "for i in cipher1:\n",
        "  if i != ' ':\n",
        "    arr1.append(int(i))\n",
        "\n",
        "array1 = np.array(arr1)\n",
        "reshape_pixels = np.reshape(array1, (27, 33))\n",
        "plt.imshow(reshape_pixels, cmap='binary')\n",
        "plt.axis('off')\n",
        "plt.show()\n"
      ],
      "metadata": {
        "colab": {
          "base_uri": "https://localhost:8080/",
          "height": 406
        },
        "id": "56uwhSxoo3jV",
        "outputId": "660e8ef4-1172-448e-fb2a-c2a352043e44"
      },
      "execution_count": null,
      "outputs": [
        {
          "output_type": "display_data",
          "data": {
            "text/plain": [
              "<Figure size 640x480 with 1 Axes>"
            ],
            "image/png": "[encoded data removed]"
          },
          "metadata": {}
        }
      ]
    },
    {
      "cell_type": "markdown",
      "source": [
        "\n",
        "\n"
      ],
      "metadata": {
        "id": "VdnvUsFEwHW0"
      }
    },
    {
      "cell_type": "code",
      "source": [
        "cipher2 = \"1 1 0 1 0 0 1 0 0 0 0 1 1 0 1 1 1 0 1 1 0 1 0 0 1 1 0 0 0 0 0 1 0 0 0 1 0 1 1 1 0 0 0 0 0 0 1 1 0 1 1 0 1 1 0 1 1 1 0 1 1 0 0 0 1 0 1 0 0 1 0 0 0 0 1 1 0 0 1 1 1 1 0 1 1 1 0 1 0 1 0 0 1 1 1 1 0 0 0 0 0 0 1 0 1 1 1 1 1 1 0 1 1 0 0 1 0 1 1 1 1 0 1 1 1 1 1 0 0 0 1 1 1 1 0 0 1 1 1 1 1 0 1 1 0 0 0 0 0 0 1 1 1 0 1 0 1 0 1 1 0 0 0 0 1 1 0 1 0 0 1 1 1 1 0 1 1 1 1 1 1 0 0 1 0 0 0 1 0 1 1 1 0 0 1 0 0 0 0 1 0 1 0 1 1 0 1 1 0 1 0 1 1 0 0 0 1 0 0 1 0 1 0 0 1 1 0 1 0 1 1 0 0 1 0 0 0 1 1 1 1 0 0 1 0 1 0 0 1 1 0 1 0 1 0 0 1 1 1 1 0 1 1 1 1 1 1 1 1 0 0 1 1 1 0 1 0 1 1 0 1 0 1 0 0 1 1 1 1 0 0 1 1 0 0 0 0 1 0 0 1 1 1 1 0 1 1 0 0 1 0 1 1 0 0 0 1 0 0 0 1 0 0 1 0 1 0 1 0 0 0 1 1 0 1 0 0 0 1 1 0 0 1 1 1 1 0 1 0 1 1 0 0 0 1 0 1 0 1 0 0 1 0 0 0 1 1 0 1 0 0 0 1 1 0 1 1 0 1 0 0 1 1 0 1 1 1 0 0 1 0 0 1 1 0 1 1 1 1 0 1 1 1 0 0 1 0 1 0 0 1 0 1 0 1 0 0 1 0 1 0 0 0 1 0 0 0 0 1 0 0 1 0 1 0 1 0 0 0 1 1 0 1 1 0 1 1 0 1 0 0 1 0 1 1 1 0 1 0 1 1 1 1 1 1 0 1 0 0 0 1 1 0 0 0 1 0 1 1 1 1 1 1 1 1 1 1 0 1 1 0 1 0 1 0 1 1 0 0 1 0 0 0 0 1 1 1 1 1 1 1 1 1 1 0 1 1 0 1 0 0 1 1 1 1 0 1 1 1 1 1 1 0 0 0 1 0 0 0 1 1 0 0 1 1 1 0 1 0 1 0 0 0 1 1 0 0 1 1 0 1 1 0 1 0 1 1 1 1 1 1 0 0 1 0 1 1 0 1 1 1 0 1 1 0 0 0 0 1 1 1 0 0 0 1 0 1 0 0 0 1 0 1 0 0 1 0 0 1 0 1 0 1 0 1 1 0 0 0 1 0 0 1 0 1 0 1 1 0 0 1 1 0 0 0 1 1 1 0 0 0 0 1 0 0 0 0 0 0 0 1 1 1 1 0 0 0 1 0 1 0 1 0 0 1 0 0 0 1 0 0 1 1 0 1 1 1 0 0 0 1 0 1 0 1 1 1 0 1 1 1 0 1 0 1 0 0 1 0 1 1 1 1 0 1 0 0 0 1 1 0 1 1 1 1 0 0 1 0 0 1 0 0 0 1 1 1 1 1 1 1 0 1 0 1 1 1 0 1 0 1 0 0 1 1 0 1 1 0 0 1 1 1 1 1 1 0 0 1 0 1 0 1 0 0 1 1 1 1 0 1 1 1 1 0 0 1 1 0 0 0 0 1 0 1 0 1 1 1 1 1 0 1 1 1 0 0 1 0 0 1 0 0 0 0 1 1 0 1 0 1 1 1 1 1 0 0 1 1 1 1 0 0 0 0 0 1 1 1 0 1 1 1 0 1 1 0 1 1 1 0 1 1 1 1 0 0 0 1 1 1 0 0 0 0 1 1 1 1 1 1 0 0 0 0 1 0 0 1 0 0 0 0 0 1 0 1 0 0 0 0 1 0 1 0 0 1 1 0 1 1\"\n",
        "arr2 = []\n",
        "\n",
        "for i in cipher2:\n",
        "  if i != ' ':\n",
        "    arr2.append(int(i))\n",
        "\n",
        "array2 = np.array(arr2)\n",
        "\n",
        "reshape_pixels2 = np.reshape(array2, (27, 33))\n",
        "plt.imshow(reshape_pixels2, cmap='binary')\n",
        "plt.axis('off')\n",
        "plt.show()"
      ],
      "metadata": {
        "colab": {
          "base_uri": "https://localhost:8080/",
          "height": 406
        },
        "id": "HlAVg4TLqWf1",
        "outputId": "08179f9f-41ba-4c25-ba90-648ca69a7c26"
      },
      "execution_count": null,
      "outputs": [
        {
          "output_type": "display_data",
          "data": {
            "text/plain": [
              "<Figure size 640x480 with 1 Axes>"
            ],
            "image/png": "[encoded data removed]"
          },
          "metadata": {}
        }
      ]
    },
    {
      "cell_type": "markdown",
      "source": [
        "#Q2\n",
        "## Find Image"
      ],
      "metadata": {
        "id": "RnBNaQXDwcTm"
      }
    },
    {
      "cell_type": "code",
      "source": [
        "cipher1 = \"1 1 0 1 0 0 1 0 0 0 0 1 1 0 1 1 1 0 1 1 0 1 0 0 1 1 0 0 0 0 0 1 0 0 0 1 0 1 1 1 0 0 0 0 0 0 1 0 0 1 1 0 1 1 1 1 1 1 0 1 1 0 0 0 1 0 1 0 0 1 0 0 0 0 1 1 0 0 1 0 1 1 0 1 1 1 0 0 0 1 0 0 1 1 1 1 0 0 0 0 0 0 1 1 0 1 1 0 1 0 1 0 0 0 0 1 0 1 1 0 0 0 1 1 1 1 1 0 0 0 1 1 1 1 0 1 0 0 0 0 0 0 1 1 1 1 1 1 1 1 0 0 0 1 0 1 0 0 1 1 0 0 0 0 1 1 0 1 1 0 1 1 0 0 0 1 0 0 1 1 1 0 0 1 1 1 0 1 0 1 1 1 0 0 1 0 0 0 0 1 1 0 0 1 1 1 1 1 0 0 0 1 1 0 0 0 0 1 0 1 0 1 0 0 1 1 0 1 0 1 1 0 0 0 0 0 0 0 0 0 1 0 1 1 0 1 0 0 1 0 0 1 0 1 0 0 1 1 1 1 0 1 1 1 1 1 0 0 1 1 1 1 0 0 1 0 0 1 1 0 1 0 0 0 0 1 1 1 1 0 0 1 1 0 0 0 0 1 0 0 0 0 0 1 0 0 0 1 1 1 0 0 0 0 0 1 0 0 0 0 0 0 0 1 0 1 0 1 0 0 0 1 1 0 1 0 0 0 1 1 0 1 0 0 0 1 0 1 0 0 0 1 1 1 1 0 1 0 1 0 0 1 0 0 0 1 1 0 1 0 0 0 1 1 0 1 1 0 1 0 0 1 1 0 1 1 1 0 0 1 0 0 1 1 0 1 1 1 1 0 1 1 1 0 0 1 0 1 0 0 1 0 1 0 1 0 0 1 0 1 0 0 0 1 0 0 0 0 1 0 0 1 0 1 0 1 0 0 0 1 1 0 1 1 0 1 1 0 1 0 0 1 0 1 0 0 0 1 0 1 1 1 1 1 1 0 1 0 0 0 1 1 0 0 0 1 0 1 1 1 1 1 1 0 1 1 0 1 1 1 0 1 0 1 0 1 1 0 0 1 0 0 0 0 1 1 1 0 0 0 0 0 1 1 0 1 0 0 0 1 0 1 1 1 1 0 1 1 1 1 0 0 0 0 0 0 0 0 0 0 0 0 0 1 0 1 0 1 0 0 0 1 0 1 1 0 0 1 1 0 1 1 1 0 1 0 0 0 0 1 1 1 1 1 0 1 1 0 1 1 1 0 0 0 1 0 0 0 1 1 1 0 0 0 1 1 1 0 0 0 0 0 1 0 1 1 0 0 1 0 1 0 1 0 1 0 1 0 0 1 0 0 1 0 1 0 1 1 1 0 1 1 1 1 1 1 1 0 0 0 0 0 1 0 0 0 0 0 1 1 0 1 1 1 0 0 0 1 0 1 0 0 0 0 1 1 0 1 1 0 1 1 1 0 1 1 1 0 0 0 1 1 1 1 0 1 1 0 1 1 1 0 1 0 0 0 1 0 0 1 0 1 1 1 0 0 0 0 1 1 1 1 1 1 0 0 0 0 1 0 1 0 0 0 1 1 1 0 0 0 1 0 1 0 0 0 1 1 0 0 1 1 1 0 1 0 1 0 0 0 1 0 0 1 1 1 0 0 1 0 1 0 1 0 0 1 1 1 1 0 1 0 0 0 1 0 1 1 0 0 0 0 1 0 1 1 1 1 1 1 1 0 1 1 1 0 0 1 0 0 1 0 0 0 0 1 1 0 1 0 1 1 1 1 1 0 0 1 1 1 1 0 0 0 0 0 1 1 1 0 1 1 1 0 1 1 0 1 1 1 0 1 1 1 1 0 0 0 1 1 1 0 0 0 0 1 1 1 1 1 1 0 0 0 0 1 0 0 1 0 0 0 0 0 1 0 1 0 0 0 0 1 0 1 0 0 1 1 0 1 1\"\n",
        "cipher2 = \"1 1 0 1 0 0 1 0 0 0 0 1 1 0 1 1 1 0 1 1 0 1 0 0 1 1 0 0 0 0 0 1 0 0 0 1 0 1 1 1 0 0 0 0 0 0 1 1 0 1 1 0 1 1 0 1 1 1 0 1 1 0 0 0 1 0 1 0 0 1 0 0 0 0 1 1 0 0 1 1 1 1 0 1 1 1 0 1 0 1 0 0 1 1 1 1 0 0 0 0 0 0 1 0 1 1 1 1 1 1 0 1 1 0 0 1 0 1 1 1 1 0 1 1 1 1 1 0 0 0 1 1 1 1 0 0 1 1 1 1 1 0 1 1 0 0 0 0 0 0 1 1 1 0 1 0 1 0 1 1 0 0 0 0 1 1 0 1 0 0 1 1 1 1 0 1 1 1 1 1 1 0 0 1 0 0 0 1 0 1 1 1 0 0 1 0 0 0 0 1 0 1 0 1 1 0 1 1 0 1 0 1 1 0 0 0 1 0 0 1 0 1 0 0 1 1 0 1 0 1 1 0 0 1 0 0 0 1 1 1 1 0 0 1 0 1 0 0 1 1 0 1 0 1 0 0 1 1 1 1 0 1 1 1 1 1 1 1 1 0 0 1 1 1 0 1 0 1 1 0 1 0 1 0 0 1 1 1 1 0 0 1 1 0 0 0 0 1 0 0 1 1 1 1 0 1 1 0 0 1 0 1 1 0 0 0 1 0 0 0 1 0 0 1 0 1 0 1 0 0 0 1 1 0 1 0 0 0 1 1 0 0 1 1 1 1 0 1 0 1 1 0 0 0 1 0 1 0 1 0 0 1 0 0 0 1 1 0 1 0 0 0 1 1 0 1 1 0 1 0 0 1 1 0 1 1 1 0 0 1 0 0 1 1 0 1 1 1 1 0 1 1 1 0 0 1 0 1 0 0 1 0 1 0 1 0 0 1 0 1 0 0 0 1 0 0 0 0 1 0 0 1 0 1 0 1 0 0 0 1 1 0 1 1 0 1 1 0 1 0 0 1 0 1 1 1 0 1 0 1 1 1 1 1 1 0 1 0 0 0 1 1 0 0 0 1 0 1 1 1 1 1 1 1 1 1 1 0 1 1 0 1 0 1 0 1 1 0 0 1 0 0 0 0 1 1 1 1 1 1 1 1 1 1 0 1 1 0 1 0 0 1 1 1 1 0 1 1 1 1 1 1 0 0 0 1 0 0 0 1 1 0 0 1 1 1 0 1 0 1 0 0 0 1 1 0 0 1 1 0 1 1 0 1 0 1 1 1 1 1 1 0 0 1 0 1 1 0 1 1 1 0 1 1 0 0 0 0 1 1 1 0 0 0 1 0 1 0 0 0 1 0 1 0 0 1 0 0 1 0 1 0 1 0 1 1 0 0 0 1 0 0 1 0 1 0 1 1 0 0 1 1 0 0 0 1 1 1 0 0 0 0 1 0 0 0 0 0 0 0 1 1 1 1 0 0 0 1 0 1 0 1 0 0 1 0 0 0 1 0 0 1 1 0 1 1 1 0 0 0 1 0 1 0 1 1 1 0 1 1 1 0 1 0 1 0 0 1 0 1 1 1 1 0 1 0 0 0 1 1 0 1 1 1 1 0 0 1 0 0 1 0 0 0 1 1 1 1 1 1 1 0 1 0 1 1 1 0 1 0 1 0 0 1 1 0 1 1 0 0 1 1 1 1 1 1 0 0 1 0 1 0 1 0 0 1 1 1 1 0 1 1 1 1 0 0 1 1 0 0 0 0 1 0 1 0 1 1 1 1 1 0 1 1 1 0 0 1 0 0 1 0 0 0 0 1 1 0 1 0 1 1 1 1 1 0 0 1 1 1 1 0 0 0 0 0 1 1 1 0 1 1 1 0 1 1 0 1 1 1 0 1 1 1 1 0 0 0 1 1 1 0 0 0 0 1 1 1 1 1 1 0 0 0 0 1 0 0 1 0 0 0 0 0 1 0 1 0 0 0 0 1 0 1 0 0 1 1 0 1 1\"\n",
        "\n",
        "find_img = []\n",
        "\n",
        "for i in range(len(cipher2)):\n",
        "  if cipher1[i] != ' ' and cipher2[i] != ' ':\n",
        "    x = int(cipher1[i])\n",
        "    y = int(cipher2[i])\n",
        "    find_img.append(int(xor(x,y)))\n",
        "\n",
        "\n",
        "img = np.array(find_img)\n",
        "\n",
        "reshape_pixels2 = np.reshape(img, (27, 33))\n",
        "plt.imshow(reshape_pixels2, cmap='binary')\n",
        "plt.axis('off')\n",
        "plt.show()"
      ],
      "metadata": {
        "id": "Ans-t3uPuPJl",
        "colab": {
          "base_uri": "https://localhost:8080/",
          "height": 406
        },
        "outputId": "9e5d8493-f289-4daf-dca0-2b936b9b0ea2"
      },
      "execution_count": null,
      "outputs": [
        {
          "output_type": "display_data",
          "data": {
            "text/plain": [
              "<Figure size 640x480 with 1 Axes>"
            ],
            "image/png": "[encoded data removed]"
          },
          "metadata": {}
        }
      ]
    },
    {
      "cell_type": "markdown",
      "source": [
        "#Q3"
      ],
      "metadata": {
        "id": "pquFpvd-7r9v"
      }
    },
    {
      "cell_type": "code",
      "source": [
        "IV = [0, 1, 1, 0, 0]\n",
        "res = [1,1,1,1,1,  0,1,0,0,0,  0,0,0,0,1]\n",
        "\n",
        "for i in range(0, 15):\n",
        "\n",
        "  f1 = xor(int(IV[0]),  int(IV[4]))\n",
        "  copy_list = IV.copy()\n",
        "  print(f'clk_{i}: ',copy_list, ', -> f(x):',f1, ', -> Final_Output:', end='')\n",
        "\n",
        "  y= IV.pop(0)\n",
        "  x = xor(y , res[i])\n",
        "  print(x)\n",
        "  IV.append(f1)\n",
        "  if (i+1) %5==0 and i>0:\n",
        "    print()"
      ],
      "metadata": {
        "colab": {
          "base_uri": "https://localhost:8080/"
        },
        "id": "KiqjYOumxGin",
        "outputId": "fd1771e1-7ee2-401e-c515-91ea2ccae50e"
      },
      "execution_count": 7,
      "outputs": [
        {
          "output_type": "stream",
          "name": "stdout",
          "text": [
            "clk_0:  [0, 1, 1, 0, 0] , -> f(x): 0 , -> Final_Output:1\n",
            "clk_1:  [1, 1, 0, 0, 0] , -> f(x): 1 , -> Final_Output:0\n",
            "clk_2:  [1, 0, 0, 0, 1] , -> f(x): 0 , -> Final_Output:0\n",
            "clk_3:  [0, 0, 0, 1, 0] , -> f(x): 0 , -> Final_Output:1\n",
            "clk_4:  [0, 0, 1, 0, 0] , -> f(x): 0 , -> Final_Output:1\n",
            "\n",
            "clk_5:  [0, 1, 0, 0, 0] , -> f(x): 0 , -> Final_Output:0\n",
            "clk_6:  [1, 0, 0, 0, 0] , -> f(x): 1 , -> Final_Output:0\n",
            "clk_7:  [0, 0, 0, 0, 1] , -> f(x): 1 , -> Final_Output:0\n",
            "clk_8:  [0, 0, 0, 1, 1] , -> f(x): 1 , -> Final_Output:0\n",
            "clk_9:  [0, 0, 1, 1, 1] , -> f(x): 1 , -> Final_Output:0\n",
            "\n",
            "clk_10:  [0, 1, 1, 1, 1] , -> f(x): 1 , -> Final_Output:0\n",
            "clk_11:  [1, 1, 1, 1, 1] , -> f(x): 0 , -> Final_Output:1\n",
            "clk_12:  [1, 1, 1, 1, 0] , -> f(x): 1 , -> Final_Output:1\n",
            "clk_13:  [1, 1, 1, 0, 1] , -> f(x): 0 , -> Final_Output:1\n",
            "clk_14:  [1, 1, 0, 1, 0] , -> f(x): 1 , -> Final_Output:0\n",
            "\n"
          ]
        }
      ]
    },
    {
      "cell_type": "markdown",
      "source": [
        "#Q4\n",
        "###output in 16 clk"
      ],
      "metadata": {
        "id": "vwwwM7F874B5"
      }
    },
    {
      "cell_type": "code",
      "source": [
        "lis = [0, 1, 1, 0, 1]\n",
        "\n",
        "for i in range(0, 30):\n",
        "  s1s4 = lis[1] and lis[4]\n",
        "  s3s4 = lis[3] and lis[4]\n",
        "  f1 = xor(int(lis[0]), int(s1s4))\n",
        "  f2 = xor(int(lis[2]), int(s3s4))\n",
        "  f = xor(f1, f2)\n",
        "  copy_list = lis.copy()\n",
        "  copy_list.reverse()\n",
        "\n",
        "  print(f'clk_{i}: ',copy_list, ', -> f(x):',f, ', -> Output:', end='')\n",
        "  x = lis.pop(0)\n",
        "  print(x)\n",
        "  lis.append(f)"
      ],
      "metadata": {
        "id": "R3Eg-t5gxUl_",
        "colab": {
          "base_uri": "https://localhost:8080/"
        },
        "outputId": "51752a6e-a86c-4bef-e300-4411dc444560"
      },
      "execution_count": 8,
      "outputs": [
        {
          "output_type": "stream",
          "name": "stdout",
          "text": [
            "clk_0:  [1, 0, 1, 1, 0] , -> f(x): 0 , -> Output:0\n",
            "clk_1:  [0, 1, 0, 1, 1] , -> f(x): 1 , -> Output:1\n",
            "clk_2:  [1, 0, 1, 0, 1] , -> f(x): 0 , -> Output:1\n",
            "clk_3:  [0, 1, 0, 1, 0] , -> f(x): 0 , -> Output:0\n",
            "clk_4:  [0, 0, 1, 0, 1] , -> f(x): 0 , -> Output:1\n",
            "clk_5:  [0, 0, 0, 1, 0] , -> f(x): 0 , -> Output:0\n",
            "clk_6:  [0, 0, 0, 0, 1] , -> f(x): 1 , -> Output:1\n",
            "clk_7:  [1, 0, 0, 0, 0] , -> f(x): 0 , -> Output:0\n",
            "clk_8:  [0, 1, 0, 0, 0] , -> f(x): 0 , -> Output:0\n",
            "clk_9:  [0, 0, 1, 0, 0] , -> f(x): 1 , -> Output:0\n",
            "clk_10:  [1, 0, 0, 1, 0] , -> f(x): 1 , -> Output:0\n",
            "clk_11:  [1, 1, 0, 0, 1] , -> f(x): 0 , -> Output:1\n",
            "clk_12:  [0, 1, 1, 0, 0] , -> f(x): 1 , -> Output:0\n",
            "clk_13:  [1, 0, 1, 1, 0] , -> f(x): 0 , -> Output:0\n",
            "clk_14:  [0, 1, 0, 1, 1] , -> f(x): 1 , -> Output:1\n",
            "clk_15:  [1, 0, 1, 0, 1] , -> f(x): 0 , -> Output:1\n",
            "clk_16:  [0, 1, 0, 1, 0] , -> f(x): 0 , -> Output:0\n",
            "clk_17:  [0, 0, 1, 0, 1] , -> f(x): 0 , -> Output:1\n",
            "clk_18:  [0, 0, 0, 1, 0] , -> f(x): 0 , -> Output:0\n",
            "clk_19:  [0, 0, 0, 0, 1] , -> f(x): 1 , -> Output:1\n",
            "clk_20:  [1, 0, 0, 0, 0] , -> f(x): 0 , -> Output:0\n",
            "clk_21:  [0, 1, 0, 0, 0] , -> f(x): 0 , -> Output:0\n",
            "clk_22:  [0, 0, 1, 0, 0] , -> f(x): 1 , -> Output:0\n",
            "clk_23:  [1, 0, 0, 1, 0] , -> f(x): 1 , -> Output:0\n",
            "clk_24:  [1, 1, 0, 0, 1] , -> f(x): 0 , -> Output:1\n",
            "clk_25:  [0, 1, 1, 0, 0] , -> f(x): 1 , -> Output:0\n",
            "clk_26:  [1, 0, 1, 1, 0] , -> f(x): 0 , -> Output:0\n",
            "clk_27:  [0, 1, 0, 1, 1] , -> f(x): 1 , -> Output:1\n",
            "clk_28:  [1, 0, 1, 0, 1] , -> f(x): 0 , -> Output:1\n",
            "clk_29:  [0, 1, 0, 1, 0] , -> f(x): 0 , -> Output:0\n"
          ]
        }
      ]
    },
    {
      "cell_type": "code",
      "source": [],
      "metadata": {
        "id": "sG8Gl8Fs71IB"
      },
      "execution_count": null,
      "outputs": []
    }
  ]
}