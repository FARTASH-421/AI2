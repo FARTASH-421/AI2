{
  "nbformat": 4,
  "nbformat_minor": 0,
  "metadata": {
    "colab": {
      "provenance": [],
      "collapsed_sections": [
        "MlAb6nudPZ49",
        "zZdPtstVPdfF",
        "zsgAcuuFEPS6"
      ],
      "authorship_tag": "ABX9TyOjeYDa/6GoL6lQ0LVQIvct",
      "include_colab_link": true
    },
    "kernelspec": {
      "name": "python3",
      "display_name": "Python 3"
    },
    "language_info": {
      "name": "python"
    }
  },
  "cells": [
    {
      "cell_type": "markdown",
      "metadata": {
        "id": "view-in-github",
        "colab_type": "text"
      },
      "source": [
        "<a href=\"https://colab.research.google.com/github/FARTASH-421/AI2/blob/master/Project_CR1.ipynb\" target=\"_parent\"><img src=\"https://colab.research.google.com/assets/colab-badge.svg\" alt=\"Open In Colab\"/></a>"
      ]
    },
    {
      "cell_type": "code",
      "execution_count": 208,
      "metadata": {
        "id": "ip_HSxYP15qR"
      },
      "outputs": [],
      "source": [
        "import random"
      ]
    },
    {
      "cell_type": "markdown",
      "source": [
        "#Part A"
      ],
      "metadata": {
        "id": "MlAb6nudPZ49"
      }
    },
    {
      "cell_type": "code",
      "source": [
        "def mul(num1, num2):\n",
        "  bin_to_Int = int (num1, 2) *  int(num2, 2)\n",
        "  result = bin_to_Int % ((2 ** 16) + 1)\n",
        "  lis = format(result, 'b')\n",
        "  l = len(lis)\n",
        "  len_zero = 16 - l\n",
        "  zero_front = ''.join([str(0) for i in range(len_zero)])\n",
        "  return zero_front+lis\n",
        ""
      ],
      "metadata": {
        "id": "ewLesGzy2Icg"
      },
      "execution_count": 131,
      "outputs": []
    },
    {
      "cell_type": "code",
      "source": [
        "def sum(num1, num2):\n",
        "  bin_to_Int = int (num1, 2) +  int(num2, 2)\n",
        "  result = bin_to_Int % (2 ** 16)\n",
        "  lis = format(result, 'b')\n",
        "  l = len(lis)\n",
        "  len_zero = 16 - l\n",
        "  zero_front = ''.join([str(0) for i in range(len_zero)])\n",
        "  return zero_front+lis\n"
      ],
      "metadata": {
        "id": "xW8eeRHC5A2K"
      },
      "execution_count": 132,
      "outputs": []
    },
    {
      "cell_type": "code",
      "source": [
        "def xor(lis_1, lis_2, size):\n",
        "  int_x = int(lis_1, 2)\n",
        "  int_y = int(lis_2, 2)\n",
        "  result = int_x ^ int_y\n",
        "  str_result = format(result, 'b')\n",
        "  l = len(str_result)\n",
        "  len_zero = size - l\n",
        "  zero_front = ''.join([str(0) for i in range(len_zero)])\n",
        "  return zero_front + str_result"
      ],
      "metadata": {
        "id": "Pezj-GvXEKF8"
      },
      "execution_count": 159,
      "outputs": []
    },
    {
      "cell_type": "code",
      "source": [
        "def Round (list_P, list_K):\n",
        "    P1 = list_P[0 :16]\n",
        "    P2 = list_P[16:32]\n",
        "    P3 = list_P[32:48]\n",
        "    P4 = list_P[48:64]\n",
        "\n",
        "    # print(f'P1: size:{len(P1)} is-> {P1}')\n",
        "    # print(f'P2: size:{len(P2)} is-> {P2}')\n",
        "    # print(f'P3: size:{len(P3)} is-> {P3}')\n",
        "    # print(f'P4: size:{len(P4)} is-> {P4}')\n",
        "\n",
        "    step_1 = mul (P1, list_K[0])\n",
        "    step_2 = sum (P2, list_K[1])\n",
        "    step_3 = sum (P3, list_K[2])\n",
        "    step_4 = sum (P4, list_K[3])\n",
        "    step_5 = xor (step_1, step_3, 16)\n",
        "    step_6 = xor (step_2, step_4, 16)\n",
        "    step_7 = mul (step_5, list_K[4])\n",
        "    step_8 = sum (step_6, step_7)\n",
        "    step_9 = mul (step_8, list_K[5])\n",
        "    step_10 = sum (step_7, step_9)\n",
        "\n",
        "    step_11 = xor (step_1, step_9, 16)\n",
        "    step_12 = xor (step_3, step_9, 16)\n",
        "    step_13 = xor (step_2, step_10, 16)\n",
        "    step_14 = xor (step_4, step_10, 16)\n",
        "    return step_11 + step_12 + step_13 + step_14\n",
        "\n"
      ],
      "metadata": {
        "id": "3RKTP8UJ5cXh"
      },
      "execution_count": 160,
      "outputs": []
    },
    {
      "cell_type": "code",
      "source": [
        "def Block_Cipher(plaintext, key):\n",
        "  index_key = 0\n",
        "  for i in range(8):\n",
        "    part_key = key[index_key:(index_key+6)]\n",
        "    plaintext = Round(plaintext, key)\n",
        "    index_key += 6\n",
        "\n",
        "  R_1 = plaintext[0:16]\n",
        "  R_2 = plaintext[16:32]\n",
        "  R_3 = plaintext[32:48]\n",
        "  R_4 = plaintext[48:64]\n",
        "\n",
        "\n",
        "  step_1 = mul (R_1, key[index_key])\n",
        "  step_2 = sum (R_2, key[index_key+1])\n",
        "  step_3 = sum (R_3, key[index_key+2])\n",
        "  step_4 = mul (R_4, key[index_key+3])\n",
        "\n",
        "  ciphertext = step_1 + step_2 +step_3 + step_4\n",
        "  return ciphertext\n"
      ],
      "metadata": {
        "id": "NWVr1KUMDxep"
      },
      "execution_count": 168,
      "outputs": []
    },
    {
      "cell_type": "code",
      "source": [
        "# ...... Test def Block_Cryptography .............\n",
        "\n",
        "ls = '1010100000000000111000001111100000001111001010101010110101010111'\n",
        "key = '1000011101010101010101011011001010110101010111010100'\n",
        "print(len(key))\n",
        "\n",
        "ciphertext = Block_Cipher(ls, key)\n",
        "print(len(ciphertext))\n",
        "ciphertext"
      ],
      "metadata": {
        "colab": {
          "base_uri": "https://localhost:8080/",
          "height": 70
        },
        "id": "9g9PJRSJEdJJ",
        "outputId": "250da1f5-5718-4c98-ba62-70ea64560eaa"
      },
      "execution_count": 169,
      "outputs": [
        {
          "output_type": "stream",
          "name": "stdout",
          "text": [
            "52\n",
            "64\n"
          ]
        },
        {
          "output_type": "execute_result",
          "data": {
            "text/plain": [
              "'0000000000000000111000001111100100001111001010100000000000000000'"
            ],
            "application/vnd.google.colaboratory.intrinsic+json": {
              "type": "string"
            }
          },
          "metadata": {},
          "execution_count": 169
        }
      ]
    },
    {
      "cell_type": "markdown",
      "source": [
        "#Part B\n"
      ],
      "metadata": {
        "id": "zZdPtstVPdfF"
      }
    },
    {
      "cell_type": "code",
      "source": [
        "def CBC(plaintext, key):\n",
        "\n",
        "  cipher_text = ''\n",
        "  bin_plaintext = ''.join([format(ord(char),'b') for char in plaintext])\n",
        "  bin_key = ''.join([format(ord(char),'b') for char in key])\n",
        "\n",
        "  len_ciphertext = len(bin_plaintext)\n",
        "  len_key = len(bin_key)\n",
        "\n",
        "\n",
        "  len_zero = 52 - len_key\n",
        "  zero_front = ''.join([str(0) for i in range(len_zero)])\n",
        "  bin_key = zero_front + bin_key\n",
        "\n",
        "  random_num = int((random.random()*100000) % (2 ** 16))\n",
        "  bin_rand = format(random_num, 'b')\n",
        "\n",
        "  for i in range(0,len_ciphertext, 64):\n",
        "    if((i < len_ciphertext) and ((i+64) > len_ciphertext)):\n",
        "      index_temp = len_ciphertext - i\n",
        "      plain_tt = bin_plaintext[i : i+index_temp]\n",
        "      out_xor = xor(plain_tt, bin_rand, 64)\n",
        "      bin_rand = Block_Cipher(out_xor, bin_key)\n",
        "      cipher_text += bin_rand\n",
        "\n",
        "    else:\n",
        "      plain_t = bin_plaintext[i:(i+64)]\n",
        "      out_xor = xor(plain_t, bin_rand, 64)\n",
        "      bin_rand = Block_Cipher(out_xor, bin_key)\n",
        "      cipher_text += bin_rand\n",
        "\n",
        "  print(cipher_text)\n",
        "  results = ''.join([chr((int(cipher_text[i:i+7], 2)%26) + 65) for i in range(0, len(cipher_text), 8)])\n",
        "  print(results)\n",
        "  return results\n",
        "\n"
      ],
      "metadata": {
        "id": "YYLLrXHFW4b_"
      },
      "execution_count": 206,
      "outputs": []
    },
    {
      "cell_type": "code",
      "source": [
        "text = \"FartashGoToSchool\"\n",
        "key = \"jonn\"\n",
        "x = CBC(text, key)\n",
        "\n"
      ],
      "metadata": {
        "id": "E3HvsE6VacM0",
        "colab": {
          "base_uri": "https://localhost:8080/"
        },
        "outputId": "a49e8ed1-0318-4e37-c7d6-6eaf8bad84a5"
      },
      "execution_count": 183,
      "outputs": [
        {
          "output_type": "stream",
          "name": "stdout",
          "text": [
            "00000000000000001001011101001101001111001111010100000000000000000000000000000000001010011101010000000001111011110000000000000000\n",
            "AAXMESAAAAUCAPAA\n"
          ]
        }
      ]
    },
    {
      "cell_type": "markdown",
      "source": [
        "#Part C\n"
      ],
      "metadata": {
        "id": "zsgAcuuFEPS6"
      }
    },
    {
      "cell_type": "code",
      "source": [
        "def UpDataCounterBin(counter):\n",
        "  counter = counter + 1\n",
        "  bin_counter = format(counter, 'b')\n",
        "  zero = ''.join([str(0) for i in range(64 - len(bin_counter))])\n",
        "  return zero + bin_counter\n"
      ],
      "metadata": {
        "id": "bdL2S70VJRDC"
      },
      "execution_count": 194,
      "outputs": []
    },
    {
      "cell_type": "code",
      "source": [
        "def CTR(plaintext, key):\n",
        "\n",
        "  cipher_text = ''\n",
        "  bin_plaintext = ''.join([format(ord(char),'b') for char in plaintext])\n",
        "  bin_key = ''.join([format(ord(char),'b') for char in key])\n",
        "\n",
        "  len_ciphertext = len(bin_plaintext)\n",
        "  len_key = len(bin_key)\n",
        "\n",
        "  bin_counter = '0'\n",
        "  len_zero = 52 - len_key\n",
        "  zero_front = ''.join([str(0) for i in range(len_zero)])\n",
        "  bin_key = zero_front + bin_key\n",
        "\n",
        "\n",
        "  for i in range(0,len_ciphertext, 64):\n",
        "\n",
        "    bin_counter = UpDataCounterBin(int(bin_counter, 2))\n",
        "\n",
        "    if((i < len_ciphertext) and ((i+64) > len_ciphertext)):\n",
        "\n",
        "      out_EncryptBlock = Block_Cipher(bin_counter, bin_key)\n",
        "      index_temp = len_ciphertext - i\n",
        "      plain_tt = bin_plaintext[i : i+index_temp]\n",
        "      out_xor = xor(plain_tt, out_EncryptBlock, 64)\n",
        "      cipher_text += out_xor\n",
        "\n",
        "    else:\n",
        "      out_EncryptBlock = Block_Cipher(bin_counter, bin_key)\n",
        "      plain_t = bin_plaintext[i:(i+64)]\n",
        "      out_xor = xor(plain_t, out_EncryptBlock, 64)\n",
        "      cipher_text += out_xor\n",
        "\n",
        "  print(cipher_text)\n",
        "  results = ''.join([chr((int(cipher_text[i:i+7], 2)%26) + 65) for i in range(0, len(cipher_text), 8)])\n",
        "  print(results)\n",
        "  return results\n",
        "\n"
      ],
      "metadata": {
        "id": "649hRkwhahua"
      },
      "execution_count": 204,
      "outputs": []
    },
    {
      "cell_type": "code",
      "source": [
        "text = \"FartashGoToSchool\"\n",
        "key = \"jonn\"\n",
        "x = CTR(text, key)"
      ],
      "metadata": {
        "colab": {
          "base_uri": "https://localhost:8080/"
        },
        "id": "G5SJSiOqnYZJ",
        "outputId": "d41d3110-aed1-4671-b070-7bb9434b098a"
      },
      "execution_count": 205,
      "outputs": [
        {
          "output_type": "stream",
          "name": "stdout",
          "text": [
            "10001101100001111001011101001101001111001111010101000111110111110000000000101001101111101001111100111101000110101111011111101100\n",
            "SPXMESJHAURBENTO\n"
          ]
        }
      ]
    },
    {
      "cell_type": "code",
      "source": [],
      "metadata": {
        "id": "WCjpwQ7MsBCT"
      },
      "execution_count": 208,
      "outputs": []
    }
  ]
}