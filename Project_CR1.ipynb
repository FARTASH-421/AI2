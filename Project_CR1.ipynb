{
  "nbformat": 4,
  "nbformat_minor": 0,
  "metadata": {
    "colab": {
      "provenance": [],
      "authorship_tag": "ABX9TyNUKWMFHr6DYTY5YjtGdGI+",
      "include_colab_link": true
    },
    "kernelspec": {
      "name": "python3",
      "display_name": "Python 3"
    },
    "language_info": {
      "name": "python"
    }
  },
  "cells": [
    {
      "cell_type": "markdown",
      "metadata": {
        "id": "view-in-github",
        "colab_type": "text"
      },
      "source": [
        "<a href=\"https://colab.research.google.com/github/FARTASH-421/AI2/blob/master/Project_CR1.ipynb\" target=\"_parent\"><img src=\"https://colab.research.google.com/assets/colab-badge.svg\" alt=\"Open In Colab\"/></a>"
      ]
    },
    {
      "cell_type": "code",
      "execution_count": 31,
      "metadata": {
        "id": "ip_HSxYP15qR"
      },
      "outputs": [],
      "source": [
        "import random"
      ]
    },
    {
      "cell_type": "markdown",
      "source": [
        "#Part A"
      ],
      "metadata": {
        "id": "MlAb6nudPZ49"
      }
    },
    {
      "cell_type": "code",
      "source": [
        "def mul(num1, num2):\n",
        "  bin_to_Int = int (num1, 2) *  int(num2, 2)\n",
        "  result = bin_to_Int % ((2 ** 16) + 1)\n",
        "  lis = format(result, 'b')\n",
        "  l = len(lis)\n",
        "  len_zero = 16 - l\n",
        "  zero_front = ''.join([str(0) for i in range(len_zero)])\n",
        "  return zero_front+lis\n",
        ""
      ],
      "metadata": {
        "id": "ewLesGzy2Icg"
      },
      "execution_count": 131,
      "outputs": []
    },
    {
      "cell_type": "code",
      "source": [
        "def sum(num1, num2):\n",
        "  bin_to_Int = int (num1, 2) +  int(num2, 2)\n",
        "  result = bin_to_Int % (2 ** 16)\n",
        "  lis = format(result, 'b')\n",
        "  l = len(lis)\n",
        "  len_zero = 16 - l\n",
        "  zero_front = ''.join([str(0) for i in range(len_zero)])\n",
        "  return zero_front+lis\n"
      ],
      "metadata": {
        "id": "xW8eeRHC5A2K"
      },
      "execution_count": 132,
      "outputs": []
    },
    {
      "cell_type": "code",
      "source": [
        "def xor(lis_1, lis_2, size):\n",
        "  int_x = int(lis_1, 2)\n",
        "  int_y = int(lis_2, 2)\n",
        "  result = int_x ^ int_y\n",
        "  str_result = format(result, 'b')\n",
        "  l = len(str_result)\n",
        "  len_zero = size - l\n",
        "  zero_front = ''.join([str(0) for i in range(len_zero)])\n",
        "  return zero_front + str_result"
      ],
      "metadata": {
        "id": "Pezj-GvXEKF8"
      },
      "execution_count": 159,
      "outputs": []
    },
    {
      "cell_type": "code",
      "source": [
        "def Round (list_P, list_K):\n",
        "    P1 = list_P[0 :16]\n",
        "    P2 = list_P[16:32]\n",
        "    P3 = list_P[32:48]\n",
        "    P4 = list_P[48:64]\n",
        "\n",
        "    # print(f'P1: size:{len(P1)} is-> {P1}')\n",
        "    # print(f'P2: size:{len(P2)} is-> {P2}')\n",
        "    # print(f'P3: size:{len(P3)} is-> {P3}')\n",
        "    # print(f'P4: size:{len(P4)} is-> {P4}')\n",
        "\n",
        "    step_1 = mul (P1, list_K[0])\n",
        "    step_2 = sum (P2, list_K[1])\n",
        "    step_3 = sum (P3, list_K[2])\n",
        "    step_4 = sum (P4, list_K[3])\n",
        "    step_5 = xor (step_1, step_3, 16)\n",
        "    step_6 = xor (step_2, step_4, 16)\n",
        "    step_7 = mul (step_5, list_K[4])\n",
        "    step_8 = sum (step_6, step_7)\n",
        "    step_9 = mul (step_8, list_K[5])\n",
        "    step_10 = sum (step_7, step_9)\n",
        "\n",
        "    step_11 = xor (step_1, step_9, 16)\n",
        "    step_12 = xor (step_3, step_9, 16)\n",
        "    step_13 = xor (step_2, step_10, 16)\n",
        "    step_14 = xor (step_4, step_10, 16)\n",
        "    return step_11 + step_12 + step_13 + step_14\n",
        "\n"
      ],
      "metadata": {
        "id": "3RKTP8UJ5cXh"
      },
      "execution_count": 160,
      "outputs": []
    },
    {
      "cell_type": "code",
      "source": [
        "def Block_Cipher(plaintext, key):\n",
        "  index_key = 0\n",
        "  for i in range(8):\n",
        "    part_key = key[index_key:(index_key+6)]\n",
        "    plaintext = Round(plaintext, key)\n",
        "    index_key += 6\n",
        "\n",
        "  R_1 = plaintext[0:16]\n",
        "  R_2 = plaintext[16:32]\n",
        "  R_3 = plaintext[32:48]\n",
        "  R_4 = plaintext[48:64]\n",
        "\n",
        "\n",
        "  step_1 = mul (R_1, key[index_key])\n",
        "  step_2 = sum (R_2, key[index_key+1])\n",
        "  step_3 = sum (R_3, key[index_key+2])\n",
        "  step_4 = mul (R_4, key[index_key+3])\n",
        "\n",
        "  ciphertext = step_1 + step_2 +step_3 + step_4\n",
        "  return ciphertext\n"
      ],
      "metadata": {
        "id": "NWVr1KUMDxep"
      },
      "execution_count": 168,
      "outputs": []
    },
    {
      "cell_type": "code",
      "source": [
        "# ...... Test def Block_Cryptography .............\n",
        "\n",
        "ls = '1010100000000000111000001111100000001111001010101010110101010111'\n",
        "key = '1000011101010101010101011011001010110101010111010100'\n",
        "print(len(key))\n",
        "\n",
        "ciphertext = Block_Cipher(ls, key)\n",
        "print(len(ciphertext))\n",
        "ciphertext"
      ],
      "metadata": {
        "colab": {
          "base_uri": "https://localhost:8080/",
          "height": 70
        },
        "id": "9g9PJRSJEdJJ",
        "outputId": "250da1f5-5718-4c98-ba62-70ea64560eaa"
      },
      "execution_count": 169,
      "outputs": [
        {
          "output_type": "stream",
          "name": "stdout",
          "text": [
            "52\n",
            "64\n"
          ]
        },
        {
          "output_type": "execute_result",
          "data": {
            "text/plain": [
              "'0000000000000000111000001111100100001111001010100000000000000000'"
            ],
            "application/vnd.google.colaboratory.intrinsic+json": {
              "type": "string"
            }
          },
          "metadata": {},
          "execution_count": 169
        }
      ]
    },
    {
      "cell_type": "markdown",
      "source": [
        "#Part B\n"
      ],
      "metadata": {
        "id": "zZdPtstVPdfF"
      }
    },
    {
      "cell_type": "code",
      "source": [
        "def CBC(plaintext, key):\n",
        "\n",
        "  cipher_text = ''\n",
        "  bin_plaintext = ''.join([format(ord(char),'b') for char in plaintext])\n",
        "  bin_key = ''.join([format(ord(char),'b') for char in key])\n",
        "\n",
        "  len_ciphertext = len(bin_plaintext)\n",
        "  len_key = len(bin_key)\n",
        "\n",
        "\n",
        "  len_zero = 52 - len_key\n",
        "  zero_front = ''.join([str(0) for i in range(len_zero)])\n",
        "  bin_key = zero_front + bin_key\n",
        "\n",
        "  random_num = int((random.random()*100000) % (2 ** 16))\n",
        "  bin_rand = format(random_num, 'b')\n",
        "\n",
        "  for i in range(0,len_ciphertext, 64):\n",
        "    if((i < len_ciphertext) and ((i+64) > len_ciphertext)):\n",
        "      index_temp = len_ciphertext - i\n",
        "      plain_tt = bin_plaintext[i : i+index_temp]\n",
        "      out_xor = xor(plain_tt, bin_rand, 64)\n",
        "      bin_rand = Block_Cipher(out_xor, bin_key)\n",
        "      cipher_text += bin_rand\n",
        "\n",
        "    else:\n",
        "      plain_t = bin_plaintext[i:(i+64)]\n",
        "      out_xor = xor(plain_t, bin_rand, 64)\n",
        "      bin_rand = Block_Cipher(out_xor, bin_key)\n",
        "      cipher_text += bin_rand\n",
        "\n",
        "  print(cipher_text)\n",
        "  results = ''.join([chr((int(cipher_text[i:i+7], 2)%26) + 65) for i in range(0, len(cipher_text), 8)])\n",
        "  print(results)\n",
        "  return results\n",
        "\n"
      ],
      "metadata": {
        "id": "YYLLrXHFW4b_"
      },
      "execution_count": 179,
      "outputs": []
    },
    {
      "cell_type": "code",
      "source": [
        "text = \"FartashGoToSchool\"\n",
        "key = \"jonn\"\n",
        "\n",
        "x = CBC(text, key)\n",
        "\n"
      ],
      "metadata": {
        "id": "E3HvsE6VacM0",
        "colab": {
          "base_uri": "https://localhost:8080/"
        },
        "outputId": "ff85d2e0-3e85-4549-fc4c-ae9ed960a6e8"
      },
      "execution_count": 181,
      "outputs": [
        {
          "output_type": "stream",
          "name": "stdout",
          "text": [
            "00000000000000001001011101001101001111001111010100000000000000000000000000000000001010011101010000000001111011110000000000000000\n",
            "AAXMESAAAAUCAPAA\n"
          ]
        }
      ]
    },
    {
      "cell_type": "code",
      "source": [
        "x =format(ord('h'),'b')\n",
        "print(x)\n",
        "x = '0000000'\n",
        "(chr(int(x,2)))"
      ],
      "metadata": {
        "id": "649hRkwhahua",
        "colab": {
          "base_uri": "https://localhost:8080/",
          "height": 53
        },
        "outputId": "5d7982bb-bedd-47ad-82dc-0310ae4835a0"
      },
      "execution_count": 139,
      "outputs": [
        {
          "output_type": "stream",
          "name": "stdout",
          "text": [
            "1101000\n"
          ]
        },
        {
          "output_type": "execute_result",
          "data": {
            "text/plain": [
              "'\\x00'"
            ],
            "application/vnd.google.colaboratory.intrinsic+json": {
              "type": "string"
            }
          },
          "metadata": {},
          "execution_count": 139
        }
      ]
    },
    {
      "cell_type": "code",
      "source": [
        "len_key = 60\n",
        "bin_key = '1111'\n",
        "\n",
        "len_zero = 52 - len_key\n",
        "zero_front = ''.join([str(0) for i in range(len_zero)])\n",
        "bin_key = zero_front + bin_key\n",
        "bin_key"
      ],
      "metadata": {
        "colab": {
          "base_uri": "https://localhost:8080/",
          "height": 35
        },
        "id": "G5SJSiOqnYZJ",
        "outputId": "c25c8fcf-3568-4382-9663-eb4f6b0e3e00"
      },
      "execution_count": 63,
      "outputs": [
        {
          "output_type": "execute_result",
          "data": {
            "text/plain": [
              "'1111'"
            ],
            "application/vnd.google.colaboratory.intrinsic+json": {
              "type": "string"
            }
          },
          "metadata": {},
          "execution_count": 63
        }
      ]
    },
    {
      "cell_type": "code",
      "source": [
        "for i in range(0, 127):\n",
        "  x =format(i,'b')\n",
        "  print(f'{i}: {x} -> {chr(int(x,2))}')\n"
      ],
      "metadata": {
        "colab": {
          "base_uri": "https://localhost:8080/"
        },
        "id": "WCjpwQ7MsBCT",
        "outputId": "4bb0d85b-6233-40a8-ae1c-6ab94ba4567b"
      },
      "execution_count": 120,
      "outputs": [
        {
          "output_type": "stream",
          "name": "stdout",
          "text": [
            "0: 0 -> \u0000\n",
            "1: 1 -> \u0001\n",
            "2: 10 -> \u0002\n",
            "3: 11 -> \u0003\n",
            "4: 100 -> \u0004\n",
            "5: 101 -> \u0005\n",
            "6: 110 -> \u0006\n",
            "7: 111 -> \u0007\n",
            "8: 1000 -> \b\n",
            "9: 1001 -> \t\n",
            "10: 1010 -> \n",
            "\n",
            "11: 1011 -> \u000b\n",
            "12: 1100 -> \f\n",
            "13: 1101 -> \r\n",
            "14: 1110 -> \u000e\n",
            "15: 1111 -> \u000f\n",
            "16: 10000 -> \u0010\n",
            "17: 10001 -> \u0011\n",
            "18: 10010 -> \u0012\n",
            "19: 10011 -> \u0013\n",
            "20: 10100 -> \u0014\n",
            "21: 10101 -> \u0015\n",
            "22: 10110 -> \u0016\n",
            "23: 10111 -> \u0017\n",
            "24: 11000 -> \u0018\n",
            "25: 11001 -> \u0019\n",
            "26: 11010 -> \u001a\n",
            "27: 11011 -> \u001b\n",
            "28: 11100 -> \u001c\n",
            "29: 11101 -> \u001d\n",
            "30: 11110 -> \u001e\n",
            "31: 11111 -> \u001f\n",
            "32: 100000 ->  \n",
            "33: 100001 -> !\n",
            "34: 100010 -> \"\n",
            "35: 100011 -> #\n",
            "36: 100100 -> $\n",
            "37: 100101 -> %\n",
            "38: 100110 -> &\n",
            "39: 100111 -> '\n",
            "40: 101000 -> (\n",
            "41: 101001 -> )\n",
            "42: 101010 -> *\n",
            "43: 101011 -> +\n",
            "44: 101100 -> ,\n",
            "45: 101101 -> -\n",
            "46: 101110 -> .\n",
            "47: 101111 -> /\n",
            "48: 110000 -> 0\n",
            "49: 110001 -> 1\n",
            "50: 110010 -> 2\n",
            "51: 110011 -> 3\n",
            "52: 110100 -> 4\n",
            "53: 110101 -> 5\n",
            "54: 110110 -> 6\n",
            "55: 110111 -> 7\n",
            "56: 111000 -> 8\n",
            "57: 111001 -> 9\n",
            "58: 111010 -> :\n",
            "59: 111011 -> ;\n",
            "60: 111100 -> <\n",
            "61: 111101 -> =\n",
            "62: 111110 -> >\n",
            "63: 111111 -> ?\n",
            "64: 1000000 -> @\n",
            "65: 1000001 -> A\n",
            "66: 1000010 -> B\n",
            "67: 1000011 -> C\n",
            "68: 1000100 -> D\n",
            "69: 1000101 -> E\n",
            "70: 1000110 -> F\n",
            "71: 1000111 -> G\n",
            "72: 1001000 -> H\n",
            "73: 1001001 -> I\n",
            "74: 1001010 -> J\n",
            "75: 1001011 -> K\n",
            "76: 1001100 -> L\n",
            "77: 1001101 -> M\n",
            "78: 1001110 -> N\n",
            "79: 1001111 -> O\n",
            "80: 1010000 -> P\n",
            "81: 1010001 -> Q\n",
            "82: 1010010 -> R\n",
            "83: 1010011 -> S\n",
            "84: 1010100 -> T\n",
            "85: 1010101 -> U\n",
            "86: 1010110 -> V\n",
            "87: 1010111 -> W\n",
            "88: 1011000 -> X\n",
            "89: 1011001 -> Y\n",
            "90: 1011010 -> Z\n",
            "91: 1011011 -> [\n",
            "92: 1011100 -> \\\n",
            "93: 1011101 -> ]\n",
            "94: 1011110 -> ^\n",
            "95: 1011111 -> _\n",
            "96: 1100000 -> `\n",
            "97: 1100001 -> a\n",
            "98: 1100010 -> b\n",
            "99: 1100011 -> c\n",
            "100: 1100100 -> d\n",
            "101: 1100101 -> e\n",
            "102: 1100110 -> f\n",
            "103: 1100111 -> g\n",
            "104: 1101000 -> h\n",
            "105: 1101001 -> i\n",
            "106: 1101010 -> j\n",
            "107: 1101011 -> k\n",
            "108: 1101100 -> l\n",
            "109: 1101101 -> m\n",
            "110: 1101110 -> n\n",
            "111: 1101111 -> o\n",
            "112: 1110000 -> p\n",
            "113: 1110001 -> q\n",
            "114: 1110010 -> r\n",
            "115: 1110011 -> s\n",
            "116: 1110100 -> t\n",
            "117: 1110101 -> u\n",
            "118: 1110110 -> v\n",
            "119: 1110111 -> w\n",
            "120: 1111000 -> x\n",
            "121: 1111001 -> y\n",
            "122: 1111010 -> z\n",
            "123: 1111011 -> {\n",
            "124: 1111100 -> |\n",
            "125: 1111101 -> }\n",
            "126: 1111110 -> ~\n"
          ]
        }
      ]
    },
    {
      "cell_type": "code",
      "source": [],
      "metadata": {
        "id": "xMLyVUuP6Ta6"
      },
      "execution_count": null,
      "outputs": []
    }
  ]
}