{
  "nbformat": 4,
  "nbformat_minor": 0,
  "metadata": {
    "colab": {
      "provenance": [],
      "authorship_tag": "ABX9TyNf3ulJebUsuPNhID8EuW+w",
      "include_colab_link": true
    },
    "kernelspec": {
      "name": "python3",
      "display_name": "Python 3"
    },
    "language_info": {
      "name": "python"
    }
  },
  "cells": [
    {
      "cell_type": "markdown",
      "metadata": {
        "id": "view-in-github",
        "colab_type": "text"
      },
      "source": [
        "<a href=\"https://colab.research.google.com/github/FARTASH-421/AI2/blob/master/Project_CR1.ipynb\" target=\"_parent\"><img src=\"https://colab.research.google.com/assets/colab-badge.svg\" alt=\"Open In Colab\"/></a>"
      ]
    },
    {
      "cell_type": "code",
      "execution_count": 30,
      "metadata": {
        "id": "ip_HSxYP15qR"
      },
      "outputs": [],
      "source": []
    },
    {
      "cell_type": "code",
      "source": [
        "def mul(ls, num):\n",
        "  num = int(num)\n",
        "  if num == 0:\n",
        "      return ''.join([str(0) for i in range(len(ls))])\n",
        "  else:\n",
        "      return ls"
      ],
      "metadata": {
        "id": "ewLesGzy2Icg"
      },
      "execution_count": 117,
      "outputs": []
    },
    {
      "cell_type": "code",
      "source": [
        "def sum(ls_num, num):\n",
        "  bin_to_Int = int (ls_num, 2)\n",
        "  bin_to_Int += int(num, 2)\n",
        "  bin_to_Int = bin_to_Int % 65535\n",
        "  lis = format(bin_to_Int, 'b')\n",
        "  l = len(lis)\n",
        "  len_zero = 16 - l\n",
        "  zero_front = ''.join([str(0) for i in range(len_zero)])\n",
        "  return zero_front+lis\n",
        ""
      ],
      "metadata": {
        "id": "xW8eeRHC5A2K"
      },
      "execution_count": 256,
      "outputs": []
    },
    {
      "cell_type": "code",
      "source": [
        "def xor(lis_1, lis_2):\n",
        "  int_x = int(lis_1,2)\n",
        "  int_y = int(lis_2, 2)\n",
        "  result = int_x ^ int_y\n",
        "  str_result = format(result, 'b')\n",
        "  l = len(str_result)\n",
        "  len_zero = 16 - l\n",
        "  zero_front = ''.join([str(0) for i in range(len_zero)])\n",
        "  return zero_front + str_result"
      ],
      "metadata": {
        "id": "Pezj-GvXEKF8"
      },
      "execution_count": 161,
      "outputs": []
    },
    {
      "cell_type": "code",
      "source": [
        "def Round (list_P, list_K):\n",
        "    P1 = list_P[0 :16]\n",
        "    P2 = list_P[16:32]\n",
        "    P3 = list_P[32:48]\n",
        "    P4 = list_P[48:64]\n",
        "\n",
        "    # print(f'P1: size:{len(P1)} is-> {P1}')\n",
        "    # print(f'P2: size:{len(P2)} is-> {P2}')\n",
        "    # print(f'P3: size:{len(P3)} is-> {P3}')\n",
        "    # print(f'P4: size:{len(P4)} is-> {P4}')\n",
        "\n",
        "    step_1 = mul (P1, list_K[0])      #1010101111111111\n",
        "    step_2 = sum (P2, list_K[1])      #1110000011111000\n",
        "    step_3 = sum (P3, list_K[2])      #0000111100101010\n",
        "    step_4 = sum (P4, list_K[3])      #1010110101010111\n",
        "    step_5 = xor (step_1, step_3)     #1010010011010101\n",
        "    step_6 = xor (step_2, step_4)     #0100110110101111\n",
        "    step_7 = mul (step_5, list_K[4])  #0000000000000000\n",
        "    step_8 = sum (step_6, step_7)     #0100110110101111\n",
        "    step_9 = mul (step_8, list_K[5])  #0100110110101111\n",
        "    step_10 = sum (step_7, step_9)    #0100110110101111\n",
        "\n",
        "    step_11 = xor (step_1, step_9)    #1110011001010000\n",
        "    step_12 = xor (step_3, step_9)    #0100001010000101\n",
        "    step_13 = xor (step_2, step_10)   #1010110101010111\n",
        "    step_14 = xor (step_4, step_10)   #1110000011111000\n",
        "    return step_11 + step_12 + step_13 + step_14\n",
        "\n"
      ],
      "metadata": {
        "id": "3RKTP8UJ5cXh"
      },
      "execution_count": 220,
      "outputs": []
    },
    {
      "cell_type": "code",
      "source": [
        "def Block_Cryptography(plaintext, key):\n",
        "  index_key = 0\n",
        "  for i in range(8):\n",
        "    part_key = key[index_key:(index_key+6)]\n",
        "    plaintext = Round(plaintext,key)\n",
        "    index_key += 6\n",
        "\n",
        "  R_1 = plaintext[0:16]\n",
        "  R_2 = plaintext[16:32]\n",
        "  R_3 = plaintext[32:48]\n",
        "  R_4 = plaintext[48:64]\n",
        "\n",
        "\n",
        "  step_1 = mul (R_1, key[index_key])\n",
        "  step_2 = sum (R_2, key[index_key+1])\n",
        "  step_3 = sum (R_3, key[index_key+2])\n",
        "  step_4 = mul (R_4, key[index_key+3])\n",
        "\n",
        "  ciphertext = step_1 + step_2 +step_3 + step_4\n",
        "  return ciphertext\n"
      ],
      "metadata": {
        "id": "NWVr1KUMDxep"
      },
      "execution_count": 234,
      "outputs": []
    },
    {
      "cell_type": "code",
      "source": [
        "# ...... Test def Block_Cryptography .............\n",
        "\n",
        "ls = '1010101111111111111000001111100000001111001010101010110101010111'\n",
        "# ls = '1010101111111111_1110000011111000_0000111100101010_1010110101010111'\n",
        "key = '1000011101010101010101011011001010110101010111010100'\n",
        "print(len(key))\n",
        "\n",
        "ciphertext = Block_Cryptography(ls, key)\n",
        "ciphertext"
      ],
      "metadata": {
        "colab": {
          "base_uri": "https://localhost:8080/",
          "height": 53
        },
        "id": "9g9PJRSJEdJJ",
        "outputId": "30c8a246-0837-4125-d4b8-100cb18ac354"
      },
      "execution_count": 237,
      "outputs": [
        {
          "output_type": "stream",
          "name": "stdout",
          "text": [
            "52\n"
          ]
        },
        {
          "output_type": "execute_result",
          "data": {
            "text/plain": [
              "'0000000000000000111000001111100100001111001010100000000000000000'"
            ],
            "application/vnd.google.colaboratory.intrinsic+json": {
              "type": "string"
            }
          },
          "metadata": {},
          "execution_count": 237
        }
      ]
    },
    {
      "cell_type": "code",
      "source": [
        "\n"
      ],
      "metadata": {
        "id": "YYLLrXHFW4b_"
      },
      "execution_count": 253,
      "outputs": []
    },
    {
      "cell_type": "code",
      "source": [
        "x = '0111111111111111'\n",
        "y = '1'\n",
        "t = sum(x, y)\n",
        "t"
      ],
      "metadata": {
        "colab": {
          "base_uri": "https://localhost:8080/",
          "height": 35
        },
        "id": "E3HvsE6VacM0",
        "outputId": "acda00c4-71d0-47e0-9797-98d9b82125db"
      },
      "execution_count": 255,
      "outputs": [
        {
          "output_type": "execute_result",
          "data": {
            "text/plain": [
              "'1000000000000000'"
            ],
            "application/vnd.google.colaboratory.intrinsic+json": {
              "type": "string"
            }
          },
          "metadata": {},
          "execution_count": 255
        }
      ]
    },
    {
      "cell_type": "code",
      "source": [
        "\n"
      ],
      "metadata": {
        "id": "649hRkwhahua"
      },
      "execution_count": null,
      "outputs": []
    }
  ]
}