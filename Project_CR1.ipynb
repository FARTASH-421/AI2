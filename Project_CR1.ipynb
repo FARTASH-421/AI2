{
  "nbformat": 4,
  "nbformat_minor": 0,
  "metadata": {
    "colab": {
      "provenance": [],
      "collapsed_sections": [
        "MlAb6nudPZ49",
        "zZdPtstVPdfF",
        "zsgAcuuFEPS6"
      ],
      "authorship_tag": "ABX9TyMP6ctG/jMmCrKEhHQhIvZs",
      "include_colab_link": true
    },
    "kernelspec": {
      "name": "python3",
      "display_name": "Python 3"
    },
    "language_info": {
      "name": "python"
    }
  },
  "cells": [
    {
      "cell_type": "markdown",
      "metadata": {
        "id": "view-in-github",
        "colab_type": "text"
      },
      "source": [
        "<a href=\"https://colab.research.google.com/github/FARTASH-421/AI2/blob/master/Project_CR1.ipynb\" target=\"_parent\"><img src=\"https://colab.research.google.com/assets/colab-badge.svg\" alt=\"Open In Colab\"/></a>"
      ]
    },
    {
      "cell_type": "code",
      "execution_count": 363,
      "metadata": {
        "id": "ip_HSxYP15qR"
      },
      "outputs": [],
      "source": [
        "# ---------------------------------------------\n",
        "#\n",
        "#       Name: Abdul Qadir \"Fartash\"\n",
        "#       ID  : 99243100\n",
        "#       Porject_CR\n",
        "#\n",
        "# ---------------------------------------------"
      ]
    },
    {
      "cell_type": "markdown",
      "source": [
        "#Part A"
      ],
      "metadata": {
        "id": "MlAb6nudPZ49"
      }
    },
    {
      "cell_type": "code",
      "source": [
        "def mul(num1, num2):\n",
        "  bin_to_Int = int (num1, 2) *  int(num2, 2)\n",
        "  result = bin_to_Int % ((2 ** 16) + 1)\n",
        "  lis = format(result, 'b')\n",
        "  l = len(lis)\n",
        "  len_zero = 16 - l\n",
        "  zero_front = ''.join([str(0) for i in range(len_zero)])\n",
        "  return zero_front+lis\n"
      ],
      "metadata": {
        "id": "ewLesGzy2Icg"
      },
      "execution_count": 293,
      "outputs": []
    },
    {
      "cell_type": "code",
      "source": [
        "def sum(num1, num2):\n",
        "  bin_to_Int = int (num1, 2) +  int(num2, 2)\n",
        "  result = bin_to_Int % (2 ** 16)\n",
        "  lis = format(result, 'b')\n",
        "  l = len(lis)\n",
        "  len_zero = 16 - l\n",
        "  zero_front = ''.join([str(0) for i in range(len_zero)])\n",
        "  return zero_front+lis\n"
      ],
      "metadata": {
        "id": "xW8eeRHC5A2K"
      },
      "execution_count": 294,
      "outputs": []
    },
    {
      "cell_type": "code",
      "source": [
        "def xor(num_1, num_2, size):\n",
        "  int_x = int(num_1, 2)\n",
        "  int_y = int(num_2, 2)\n",
        "  result = int_x ^ int_y\n",
        "  str_result = format(result, 'b')\n",
        "  len_zero = size - len(str_result)\n",
        "  zero_front = ''.join([str(0) for i in range(len_zero)])\n",
        "  return zero_front + str_result"
      ],
      "metadata": {
        "id": "Pezj-GvXEKF8"
      },
      "execution_count": 295,
      "outputs": []
    },
    {
      "cell_type": "code",
      "source": [
        "def keyGen(key):\n",
        "\n",
        "  subKey = []\n",
        "  for j in range(7):\n",
        "    sub = [key[i:i+16] for i in range(0, len(key), 16)]\n",
        "    subKey.extend(sub)\n",
        "    key = key[25:] + key[:25]\n",
        "\n",
        "  return subKey"
      ],
      "metadata": {
        "id": "v6KhwbM4DRha"
      },
      "execution_count": 296,
      "outputs": []
    },
    {
      "cell_type": "code",
      "source": [
        "def Round (list_P, list_K):\n",
        "    P1 = list_P[0 :16]\n",
        "    P2 = list_P[16:32]\n",
        "    P3 = list_P[32:48]\n",
        "    P4 = list_P[48:64]\n",
        "\n",
        "    step_1 = mul (P1, list_K[0])\n",
        "    step_2 = sum (P2, list_K[1])\n",
        "    step_3 = sum (P3, list_K[2])\n",
        "    step_4 = sum (P4, list_K[3])\n",
        "    step_5 = xor (step_1, step_3, 16)\n",
        "    step_6 = xor (step_2, step_4, 16)\n",
        "    step_7 = mul (step_5, list_K[4])\n",
        "    step_8 = sum (step_6, step_7)\n",
        "    step_9 = mul (step_8, list_K[5])\n",
        "    step_10 = sum (step_7, step_9)\n",
        "\n",
        "    step_11 = xor (step_1, step_9, 16)\n",
        "    step_12 = xor (step_3, step_9, 16)\n",
        "    step_13 = xor (step_2, step_10, 16)\n",
        "    step_14 = xor (step_4, step_10, 16)\n",
        "    return step_11 + step_12 + step_13 + step_14\n",
        "\n"
      ],
      "metadata": {
        "id": "3RKTP8UJ5cXh"
      },
      "execution_count": 297,
      "outputs": []
    },
    {
      "cell_type": "code",
      "source": [
        "def Block_Cipher(plaintext, key):\n",
        "\n",
        "  subKey = keyGen(key)\n",
        "  # print(f'{subKey[:10]}')\n",
        "  # print(f'-> subkey[0]:{len(subKey[0])}')\n",
        "\n",
        "  index_key = 0\n",
        "  for i in range(8):\n",
        "    part_key = subKey[index_key :(index_key+6)]\n",
        "    # print(f'size part key: {len(part_key)} -> {part_key}')\n",
        "    plaintext = Round(plaintext, part_key)\n",
        "    index_key += 6\n",
        "\n",
        "  # print(int(plaintext, 2))\n",
        "  R_1 = plaintext[0:16]\n",
        "  R_2 = plaintext[16:32]\n",
        "  R_3 = plaintext[32:48]\n",
        "  R_4 = plaintext[48:64]\n",
        "\n",
        "\n",
        "  step_1 = mul (R_1, subKey[index_key])\n",
        "  step_2 = sum (R_2, subKey[index_key+1])\n",
        "  step_3 = sum (R_3, subKey[index_key+2])\n",
        "  step_4 = mul (R_4, subKey[index_key+3])\n",
        "\n",
        "  ciphertext = step_1 + step_2 +step_3 + step_4\n",
        "  return ciphertext\n"
      ],
      "metadata": {
        "id": "NWVr1KUMDxep"
      },
      "execution_count": 298,
      "outputs": []
    },
    {
      "cell_type": "markdown",
      "source": [
        "#Test Part 1"
      ],
      "metadata": {
        "id": "OdeCtetQavv3"
      }
    },
    {
      "cell_type": "code",
      "source": [
        "plaintext = b\"\\x00\\x11\\x22\\x33\\x44\\x55\\x66\\x77\"\n",
        "key = b\"\\x81\\x23\\x45\\x67\\x89\\xab\\xcd\\xef\\xfe\\xdc\\xba\\x98\\x76\\x54\\x32\\x18\"\n",
        "\n",
        "plainB = ''.join(f'{byte:08b}' for byte in plaintext)\n",
        "keyB = ''.join(f'{byte:08b}' for byte in key)\n",
        "\n",
        "print('Hex Plaintext  : ', plaintext)\n",
        "print('plaintext      : ', plainB)\n",
        "print('size plaintext : ', len(plainB))\n",
        "\n",
        "print('Hex Key        : ', key)\n",
        "print('key            : ', keyB)\n",
        "print('size key       : ', len(keyB))\n",
        "\n",
        "\n",
        "print('\\n-------------------------------------------------------------------------------------------------------------------------------------------------')\n",
        "ciphertext = Block_Cipher(plainB, keyB)\n",
        "\n",
        "print('cipherText      : ', ciphertext)\n",
        "print('size ciphertext : ', len(ciphertext))\n",
        "\n",
        "x = int(ciphertext, 2)\n",
        "hex_bytes = x.to_bytes(8, byteorder='big')\n",
        "print('Hex cipherText  : ',hex_bytes)\n"
      ],
      "metadata": {
        "colab": {
          "base_uri": "https://localhost:8080/"
        },
        "id": "9g9PJRSJEdJJ",
        "outputId": "13664954-6e40-4190-fc42-54b1a24ea046"
      },
      "execution_count": 352,
      "outputs": [
        {
          "output_type": "stream",
          "name": "stdout",
          "text": [
            "Hex Plaintext  :  b'\\x00\\x11\"3DUfw'\n",
            "plaintext      :  0000000000010001001000100011001101000100010101010110011001110111\n",
            "size plaintext :  64\n",
            "Hex Key        :  b'\\x81#Eg\\x89\\xab\\xcd\\xef\\xfe\\xdc\\xba\\x98vT2\\x18'\n",
            "key            :  10000001001000110100010101100111100010011010101111001101111011111111111011011100101110101001100001110110010101000011001000011000\n",
            "size key       :  128\n",
            "\n",
            "-------------------------------------------------------------------------------------------------------------------------------------------------\n",
            "cipherText      :  0011001000001011100100101110110101001110011001010010000010010000\n",
            "size ciphertext :  64\n",
            "Hex cipherText  :  b'2\\x0b\\x92\\xedNe \\x90'\n"
          ]
        }
      ]
    },
    {
      "cell_type": "markdown",
      "source": [
        "#Part B\n"
      ],
      "metadata": {
        "id": "zZdPtstVPdfF"
      }
    },
    {
      "cell_type": "code",
      "source": [
        "import random\n",
        "\n",
        "def CBC(plaintext, key):\n",
        "\n",
        "  cipher_text_CBC = ''\n",
        "\n",
        "  # if input is Hex\n",
        "  bin_plaintext = ''.join(f'{byte:08b}' for byte in plaintext)\n",
        "  key_bin = ''.join(f'{byte:08b}' for byte in key)\n",
        "\n",
        "  # if input is char\n",
        "  # bin_plaintext = ''.join([format(ord(char),'b') for char in plaintext])\n",
        "  # key_bin = ''.join([format(ord(char),'b') for char in key])\n",
        "\n",
        "  len_plain = len(bin_plaintext)\n",
        "  len_key = len(key_bin)\n",
        "\n",
        "\n",
        "  len_zero = 128 - len_key\n",
        "  zero_front = ''.join([str(0) for i in range(len_zero)])\n",
        "  key_bin = zero_front + key_bin\n",
        "\n",
        "  random_num = int((random.random()*100000) % (2 ** 16))\n",
        "  bin_rand = format(random_num, 'b')\n",
        "\n",
        "  for i in range(0,len_plain, 64):\n",
        "\n",
        "    if((i < len_plain) and ((i+64) > len_plain)):\n",
        "      index_temp = len_plain - i\n",
        "      plain_tt = bin_plaintext[i : i+index_temp]\n",
        "\n",
        "      out_xor = xor(plain_tt, bin_rand, 64)\n",
        "      bin_rand = Block_Cipher(out_xor, key_bin)\n",
        "      cipher_text_CBC += bin_rand\n",
        "\n",
        "    else:\n",
        "\n",
        "      plain_t = bin_plaintext[i:(i+64)]\n",
        "      out_xor = xor(plain_t, bin_rand, 64)\n",
        "      bin_rand = Block_Cipher(out_xor, key_bin)\n",
        "      cipher_text_CBC += bin_rand\n",
        "\n",
        "  print(cipher_text_CBC)\n",
        "\n",
        "  # if input is text then output convert to text\n",
        "  # results = ''.join([chr((int(cipher_text_CBC[i:i+7], 2)%26) + 65) for i in range(0, len(cipher_text_CBC), 8)])\n",
        "  # cipher_text = results\n",
        "\n",
        "\n",
        "  # if input is hex then output convert to hex\n",
        "  out = int(cipher_text_CBC, 2)\n",
        "  print(out)\n",
        "  cipher_text_CBC = out.to_bytes(8, byteorder='big')\n",
        "  return cipher_text_CBC\n",
        "\n"
      ],
      "metadata": {
        "id": "YYLLrXHFW4b_"
      },
      "execution_count": 364,
      "outputs": []
    },
    {
      "cell_type": "markdown",
      "source": [
        "#Test Part 2"
      ],
      "metadata": {
        "id": "uzxZ6S8ibTZR"
      }
    },
    {
      "cell_type": "code",
      "source": [
        "plaintext = b\"\\x00\\x11\\x22\\x33\\x44\\x55\\x66\\x77\"\n",
        "key = b\"\\x81\\x23\\x45\\x67\\x89\\xab\\xcd\\xef\\xfe\\xdc\\xba\\x98\\x76\\x54\\x32\\x18\"\n",
        "g = CBC(plaintext, key)\n",
        "print(g)\n"
      ],
      "metadata": {
        "id": "E3HvsE6VacM0",
        "colab": {
          "base_uri": "https://localhost:8080/"
        },
        "outputId": "306ca57a-5239-412c-803f-9512f213fe7c"
      },
      "execution_count": 367,
      "outputs": [
        {
          "output_type": "stream",
          "name": "stdout",
          "text": [
            "0100101010000010111000010110101000010011010100010010110011110010\n",
            "5369101551485922546\n",
            "b'J\\x82\\xe1j\\x13Q,\\xf2'\n"
          ]
        }
      ]
    },
    {
      "cell_type": "markdown",
      "source": [
        "#Part C\n"
      ],
      "metadata": {
        "id": "zsgAcuuFEPS6"
      }
    },
    {
      "cell_type": "code",
      "source": [
        "def UpDataCounterBin(counter):\n",
        "  counter = counter + 1\n",
        "  bin_counter = format(counter, 'b')\n",
        "  zero = ''.join([str(0) for i in range(64 - len(bin_counter))])\n",
        "  return zero + bin_counter\n"
      ],
      "metadata": {
        "id": "bdL2S70VJRDC"
      },
      "execution_count": 302,
      "outputs": []
    },
    {
      "cell_type": "code",
      "source": [
        "def CTR(plaintext, key):\n",
        "\n",
        "  cipher_text_CTR= ''\n",
        "\n",
        "  # if input is Hex\n",
        "  plaintext_CTR = ''.join(f'{byte:08b}' for byte in plaintext)\n",
        "  key_CTR = ''.join(f'{byte:08b}' for byte in key)\n",
        "\n",
        "  # if input is text\n",
        "  # plaintext_CTR = ''.join([format(ord(char),'b') for char in plaintext])\n",
        "  # key_CTR = ''.join([format(ord(char),'b') for char in key])\n",
        "\n",
        "  len_cipherCTR = len(plaintext_CTR)\n",
        "  len_keyCTR = len(key_CTR)\n",
        "\n",
        "  bin_counter = '0'\n",
        "  len_zero = 128 - len_keyCTR\n",
        "  zero_front = ''.join([str(0) for i in range(len_zero)])\n",
        "  bin_key = zero_front + key_CTR\n",
        "\n",
        "\n",
        "  for i in range(0,len_cipherCTR, 64):\n",
        "\n",
        "    bin_counter = UpDataCounterBin(int(bin_counter, 2))\n",
        "\n",
        "    if((i < len_cipherCTR) and ((i+64) > len_cipherCTR)):\n",
        "\n",
        "      out_EncryptBlock = Block_Cipher(bin_counter, bin_key)\n",
        "      index_temp = len_cipherCTR - i\n",
        "      plain_tt = plaintext_CTR[i : i+index_temp]\n",
        "      out_xor_CTR = xor(plain_tt, out_EncryptBlock, 64)\n",
        "      cipher_text_CTR += out_xor_CTR\n",
        "\n",
        "    else:\n",
        "      out_EncryptBlock = Block_Cipher(bin_counter, bin_key)\n",
        "      plain_t = plaintext_CTR[i:(i+64)]\n",
        "      out_xor_CTR = xor(plain_t, out_EncryptBlock, 64)\n",
        "      cipher_text_CTR += out_xor_CTR\n",
        "\n",
        "  print(cipher_text_CTR)\n",
        "  # if input is text then convert ouput to text\n",
        "  # results = ''.join([chr((int(cipher_text_CTR[i:i+7], 2)%26) + 65) for i in range(0, len(cipher_text_CTR), 8)])\n",
        "  # cipher_text_CTR = results\n",
        "\n",
        "  # if input is Hex then convert output to Hex\n",
        "  out_CTR = int(cipher_text_CTR, 2)\n",
        "  print(out_CTR)\n",
        "  cipher_text_CTR = out_CTR.to_bytes(8, byteorder='big')\n",
        "  return cipher_text_CTR\n",
        "\n"
      ],
      "metadata": {
        "id": "649hRkwhahua"
      },
      "execution_count": 344,
      "outputs": []
    },
    {
      "cell_type": "markdown",
      "source": [
        "#Test Part 3\n"
      ],
      "metadata": {
        "id": "OSsIuVJWU8W6"
      }
    },
    {
      "cell_type": "code",
      "source": [
        "plaintext = b\"\\x00\\x11\\x22\\x33\\x44\\x55\\x66\\x77\"\n",
        "key = b\"\\x81\\x23\\x45\\x67\\x89\\xab\\xcd\\xef\\xfe\\xdc\\xba\\x98\\x76\\x54\\x32\\x18\"\n",
        "g = CTR(plaintext, key)\n",
        "print(g)"
      ],
      "metadata": {
        "id": "-qyg7s6T6-io",
        "outputId": "b84eac21-1723-474e-93a6-cbe494e7761c",
        "colab": {
          "base_uri": "https://localhost:8080/"
        }
      },
      "execution_count": 361,
      "outputs": [
        {
          "output_type": "stream",
          "name": "stdout",
          "text": [
            "0010010100110000010010101000101011010010011010110100010011110001\n",
            "2679723738381632753\n",
            "b'%0J\\x8a\\xd2kD\\xf1'\n"
          ]
        }
      ]
    },
    {
      "cell_type": "code",
      "source": [],
      "metadata": {
        "id": "LjckiOPVmv5-"
      },
      "execution_count": null,
      "outputs": []
    }
  ]
}