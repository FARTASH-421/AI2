{
  "nbformat": 4,
  "nbformat_minor": 0,
  "metadata": {
    "colab": {
      "provenance": [],
      "authorship_tag": "ABX9TyPncp1zex3HLFKmu4wq5b/W",
      "include_colab_link": true
    },
    "kernelspec": {
      "name": "python3",
      "display_name": "Python 3"
    },
    "language_info": {
      "name": "python"
    }
  },
  "cells": [
    {
      "cell_type": "markdown",
      "metadata": {
        "id": "view-in-github",
        "colab_type": "text"
      },
      "source": [
        "<a href=\"https://colab.research.google.com/github/FARTASH-421/AI2/blob/master/Project_CR2.ipynb\" target=\"_parent\"><img src=\"https://colab.research.google.com/assets/colab-badge.svg\" alt=\"Open In Colab\"/></a>"
      ]
    },
    {
      "cell_type": "code",
      "source": [
        "def myADD(num1, num2):\n",
        "  bin_to_Int = int (num1, 2) +  int(num2, 2)\n",
        "  result = bin_to_Int % (2 ** 16)\n",
        "  lis = format(result, 'b')\n",
        "  l = len(lis)\n",
        "  len_zero = 32 - l\n",
        "  zero_front = ''.join([str(0) for i in range(len_zero)])\n",
        "  return zero_front+lis"
      ],
      "metadata": {
        "id": "sYDYO7J6I2h0"
      },
      "execution_count": 3,
      "outputs": []
    },
    {
      "cell_type": "code",
      "source": [
        "def myXOR(num_1, num_2, size):\n",
        "  int_x = int(num_1, 2)\n",
        "  int_y = int(num_2, 2)\n",
        "  result = int_x ^ int_y\n",
        "  str_result = format(result, 'b')\n",
        "  len_zero = size - len(str_result)\n",
        "  zero_front = ''.join([str(0) for i in range(len_zero)])\n",
        "  return zero_front + str_result\n"
      ],
      "metadata": {
        "id": "H0NJwKJGFa3e"
      },
      "execution_count": 4,
      "outputs": []
    },
    {
      "cell_type": "code",
      "source": [
        "def S_BOX(P_text, table):\n",
        "  col = int((P_text[0]+P_text[6]+P_text[7]), 2)\n",
        "  row = int((P_text[1:6]), 2)\n",
        "  out_table = table[row][col]\n",
        "  res = bin(int(out_table, 16)).zfill(8)[2:]\n",
        "  len_zero = 32 - len(res)\n",
        "  zero_front = ''.join([str(0) for i in range(len_zero)])\n",
        "  return zero_front + res"
      ],
      "metadata": {
        "id": "lP9wIS5hJs00"
      },
      "execution_count": 17,
      "outputs": []
    },
    {
      "cell_type": "code",
      "source": [
        "def W_Box(P_text, S_BOX_Tables):\n",
        "  P1 = P_text[:8]\n",
        "  P2 = P_text[8:16]\n",
        "  P3 = P_text[16:24]\n",
        "  P4 = P_text[24:]\n",
        "\n",
        "  out_S_Box1 = S_BOX(P1, S_BOX_Tables[0])\n",
        "  out_S_Box2 = S_BOX(P2, S_BOX_Tables[1])\n",
        "  out_S_Box3 = S_BOX(P3, S_BOX_Tables[2])\n",
        "  out_S_Box4 = S_BOX(P4, S_BOX_Tables[3])\n",
        "\n",
        "  out_add = myADD(out_S_Box1, out_S_Box2)\n",
        "  out_XOR = myXOR(out_add, out_S_Box3, 32)\n",
        "  result = myADD(out_XOR, out_S_Box4)\n",
        "  return result\n",
        "\n"
      ],
      "metadata": {
        "id": "0AvJ9-rXH8Iz"
      },
      "execution_count": null,
      "outputs": []
    },
    {
      "cell_type": "code",
      "source": [
        "def Round(Plantext, Key, S_BOX_Tables):\n",
        "\n",
        "  left_bit = Plantext[:32]\n",
        "  right_bit = Plantext[32:]\n",
        "\n",
        "  out = myXOR(left_bit, Key, 32)\n",
        "  w = W_Box(out, S_BOX_Tables)\n",
        "  re_left = myXOR(w, right_bit, 32)\n",
        "  out_res = re_left + left_bit\n",
        "  return out_res"
      ],
      "metadata": {
        "id": "lqEr6YcRGdtJ"
      },
      "execution_count": 18,
      "outputs": []
    },
    {
      "cell_type": "code",
      "source": [
        "def Box(Plantext, Keys, S_BOX_Tables):\n",
        "\n",
        "  for i in range(0, 32):\n",
        "    Plantext = Round(Plantext, Keys[i], S_BOX_Tables)\n",
        "\n",
        "  # last round\n",
        "  left_bits = Plantext[:32]\n",
        "  right_bits = Plantext[32:]\n",
        "  new_left = myXOR(left_bits, Keys[15], 32)\n",
        "  new_right = myXOR(right_bits, Keys[16], 32)\n",
        "\n",
        "  cypher = new_right + new_left\n",
        "  return cypher\n"
      ],
      "metadata": {
        "id": "5suPVQ2oF_2b"
      },
      "execution_count": null,
      "outputs": []
    },
    {
      "cell_type": "code",
      "execution_count": 20,
      "metadata": {
        "id": "NvdTgVIFEiyy"
      },
      "outputs": [],
      "source": [
        "def WrokFactor(Plantext, Keys, salt, S_BOX_Tables):\n",
        "  box = Box(Plantext, Keys, S_BOX_Tables)\n",
        "  result = myXOR(salt, box, 64)\n",
        "  return result"
      ]
    },
    {
      "cell_type": "code",
      "source": [
        "def Hash_Function(PlanText, Salt, Keys, S_BOX_Tables, workF):\n",
        "\n",
        "  n = 2 ** workF\n",
        "  for i in range(0, n):\n",
        "    PlanText = WrokFactor(PlanText, Keys, Salt, S_BOX_Tables)\n",
        "\n",
        "  cypher_Text = PlanText\n",
        "  return cypher_Text"
      ],
      "metadata": {
        "id": "tfflilrOEmA0"
      },
      "execution_count": 19,
      "outputs": []
    },
    {
      "cell_type": "code",
      "source": [],
      "metadata": {
        "id": "B6wn6hsQLqE-"
      },
      "execution_count": 18,
      "outputs": []
    },
    {
      "cell_type": "code",
      "source": [],
      "metadata": {
        "id": "AavKQgoLMh3q"
      },
      "execution_count": null,
      "outputs": []
    }
  ]
}